{
 "cells": [
  {
   "cell_type": "code",
   "execution_count": 1,
   "metadata": {},
   "outputs": [],
   "source": [
    "import numpy as np"
   ]
  },
  {
   "cell_type": "code",
   "execution_count": 2,
   "metadata": {},
   "outputs": [],
   "source": [
    "def find_max_element(A):\n",
    "    row = 0\n",
    "    col = 0\n",
    "    Amax = 0\n",
    "    for i in range(A.shape[0]):\n",
    "        for j in range(A.shape[1]):\n",
    "            if(np.abs(A[i][j]) > Amax and i!=j):\n",
    "                row = i\n",
    "                col = j\n",
    "                Amax = np.abs(A[i][j])\n",
    "    return row,col"
   ]
  },
  {
   "cell_type": "code",
   "execution_count": 3,
   "metadata": {},
   "outputs": [
    {
     "data": {
      "text/plain": [
       "(0, 2)"
      ]
     },
     "execution_count": 3,
     "metadata": {},
     "output_type": "execute_result"
    }
   ],
   "source": [
    "A = np.array([[1,2,4],[1,4,3],[0,3,5]])\n",
    "find_max_element(A)"
   ]
  },
  {
   "cell_type": "code",
   "execution_count": 3,
   "metadata": {},
   "outputs": [],
   "source": [
    "def Create_rotation_matrix(A,i0,j0):\n",
    "    if(A[i0][i0] != A[j0][j0]):\n",
    "        myu0 = 2*A[i0][j0]/(A[i0][i0]-A[j0][j0])\n",
    "        cos_2phi0 = 1/np.sqrt(1+myu0**2)\n",
    "        c0 = np.sqrt((1+cos_2phi0)/2)\n",
    "        s0 = np.sign(myu0)*np.sqrt((1-cos_2phi0)/2)\n",
    "    else:\n",
    "        c0 = np.sqrt(2)/2\n",
    "        s0 = np.sqrt(2)/2\n",
    "    U = np.identity(A.shape[0])\n",
    "    U[i0][i0] = c0\n",
    "    U[i0][j0] = -s0\n",
    "    U[j0][i0] = s0\n",
    "    U[j0][j0] = c0\n",
    "    return U"
   ]
  },
  {
   "cell_type": "code",
   "execution_count": 4,
   "metadata": {},
   "outputs": [],
   "source": [
    "def sum_of_non_diaganal(A):\n",
    "    A1 = A.copy()\n",
    "    for i in range(A.shape[0]):\n",
    "        A1[i][i] = 0\n",
    "    return np.sum(A1**2)"
   ]
  },
  {
   "cell_type": "code",
   "execution_count": 5,
   "metadata": {},
   "outputs": [],
   "source": [
    "def Diaganolizing_process(A, max_iter=1e+3, eps=1e-10):\n",
    "    i=0\n",
    "    U = np.ones(shape=A.shape)\n",
    "\n",
    "    while  sum_of_non_diaganal(A)>eps:\n",
    "        if i==1:\n",
    "            print(A[i0][j0])\n",
    "        i0, j0 = find_max_element(A)\n",
    "        U = Create_rotation_matrix(A,i0,j0)\n",
    "        A = U.T @ A @ U\n",
    "        i+=1\n",
    "        print(f\"iteration {i} and A is {A}\")\n",
    "        if(i ==1000):\n",
    "            break\n",
    "    print(sum_of_non_diaganal(A))\n",
    "    print(A[1][1],A[2][2],A[0][0])\n",
    "    return A, U\n"
   ]
  },
  {
   "cell_type": "code",
   "execution_count": 7,
   "metadata": {},
   "outputs": [
    {
     "name": "stdout",
     "output_type": "stream",
     "text": [
      "iteration 1 and A is [[ 7.00000000e+00  0.00000000e+00 -6.45185682e-16]\n",
      " [ 0.00000000e+00  6.00000000e+00  2.82842712e+00]\n",
      " [-6.83580866e-17  2.82842712e+00 -1.00000000e+00]]\n",
      "-6.451856824663569e-16\n",
      "iteration 2 and A is [[ 7.00000000e+00 -2.15061894e-16 -6.08286895e-16]\n",
      " [-2.27860289e-17  7.00000000e+00 -2.30510567e-16]\n",
      " [-6.44486221e-17 -5.81536493e-16 -2.00000000e+00]]\n",
      "8.122572076314438e-31\n",
      "7.0 -2.0000000000000004 7.000000000000001\n",
      "----------------------------------------------------------------------------------------------------\n",
      "A is  [[ 7.00000000e+00 -2.15061894e-16 -6.08286895e-16]\n",
      " [-2.27860289e-17  7.00000000e+00 -2.30510567e-16]\n",
      " [-6.44486221e-17 -5.81536493e-16 -2.00000000e+00]]\n",
      "[[ 1.          0.          0.        ]\n",
      " [ 0.          0.94280904 -0.33333333]\n",
      " [ 0.          0.33333333  0.94280904]]\n"
     ]
    }
   ],
   "source": [
    "A = np.array([[3,-2,4],[-2,6,2],[4,2,3]])\n",
    "A1, U = Diaganolizing_process(A)\n",
    "print(\"-\"*100)\n",
    "print(\"A is \",A1)\n",
    "print(U)"
   ]
  },
  {
   "cell_type": "code",
   "execution_count": 8,
   "metadata": {},
   "outputs": [
    {
     "name": "stdout",
     "output_type": "stream",
     "text": [
      "iteration 1 and A is [[ 1.00000000e+00  1.30658512e+00  4.82626515e+00]\n",
      " [ 1.30658512e+00 -6.84658438e-01  8.88474698e-16]\n",
      " [ 4.82626515e+00  1.72015830e-15  1.16846584e+01]]\n",
      "8.8847469800075e-16\n",
      "iteration 2 and A is [[-8.57206655e-01  1.21941497e+00 -3.99726076e-16]\n",
      " [ 1.21941497e+00 -6.84658438e-01  4.69245998e-01]\n",
      " [-1.10420542e-16  4.69245998e-01  1.35418651e+01]]\n",
      "iteration 3 and A is [[-1.99339568e+00 -2.84110938e-16 -3.19884347e-01]\n",
      " [ 2.23924540e-16  4.51530582e-01  3.43315905e-01]\n",
      " [-3.19884347e-01  3.43315905e-01  1.35418651e+01]]\n",
      "iteration 4 and A is [[-1.99339568e+00  8.38086115e-03 -3.19774540e-01]\n",
      " [ 8.38086115e-03  4.42532734e-01 -1.13220650e-14]\n",
      " [-3.19774540e-01 -1.05131123e-14  1.35508629e+01]]\n",
      "iteration 5 and A is [[-1.99997126e+00  8.37908982e-03 -1.18010479e-14]\n",
      " [ 8.37908982e-03  4.42532734e-01 -1.72300698e-04]\n",
      " [-1.20790400e-14 -1.72300698e-04  1.35574385e+01]]\n",
      "iteration 6 and A is [[-2.00000000e+00  5.21929910e-15  5.91072735e-07]\n",
      " [ 5.71847970e-15  4.42561478e-01 -1.72299684e-04]\n",
      " [ 5.91072735e-07 -1.72299684e-04  1.35574385e+01]]\n",
      "iteration 7 and A is [[-2.00000000e+00  7.77057046e-12  5.91072735e-07]\n",
      " [ 7.77106964e-12  4.42561476e-01 -3.38667605e-11]\n",
      " [ 5.91072735e-07 -3.38659421e-11  1.35574385e+01]]\n",
      "6.987339579526257e-13\n",
      "0.4425614756979997 13.557438524301977 -1.9999999999999771\n"
     ]
    },
    {
     "data": {
      "text/plain": [
       "(array([[-2.00000000e+00,  7.77057046e-12,  5.91072735e-07],\n",
       "        [ 7.77106964e-12,  4.42561476e-01, -3.38667605e-11],\n",
       "        [ 5.91072735e-07, -3.38659421e-11,  1.35574385e+01]]),\n",
       " array([[ 1.00000000e+00,  0.00000000e+00,  0.00000000e+00],\n",
       "        [ 0.00000000e+00,  1.00000000e+00, -1.31377252e-05],\n",
       "        [ 0.00000000e+00,  1.31377252e-05,  1.00000000e+00]]))"
      ]
     },
     "execution_count": 8,
     "metadata": {},
     "output_type": "execute_result"
    }
   ],
   "source": [
    "B = np.array([[1., 4., 3.], [4., 4., 6.], [3., 6., 7.]])\n",
    "Diaganolizing_process(B)"
   ]
  },
  {
   "cell_type": "code",
   "execution_count": 10,
   "metadata": {},
   "outputs": [
    {
     "data": {
      "text/plain": [
       "18.0"
      ]
     },
     "execution_count": 10,
     "metadata": {},
     "output_type": "execute_result"
    }
   ],
   "source": []
  },
  {
   "cell_type": "code",
   "execution_count": null,
   "metadata": {},
   "outputs": [],
   "source": []
  }
 ],
 "metadata": {
  "interpreter": {
   "hash": "a9a630d74f7fccefe332b32b193b3249e6d3d1fcf83143eff8791df48cf405fd"
  },
  "kernelspec": {
   "display_name": "Python 3.9.5 ('base')",
   "language": "python",
   "name": "python3"
  },
  "language_info": {
   "codemirror_mode": {
    "name": "ipython",
    "version": 3
   },
   "file_extension": ".py",
   "mimetype": "text/x-python",
   "name": "python",
   "nbconvert_exporter": "python",
   "pygments_lexer": "ipython3",
   "version": "3.9.5"
  },
  "orig_nbformat": 4
 },
 "nbformat": 4,
 "nbformat_minor": 2
}
